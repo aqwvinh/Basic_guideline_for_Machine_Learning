{
  "nbformat": 4,
  "nbformat_minor": 0,
  "metadata": {
    "colab": {
      "name": "CareerCon  2019 (Classification)",
      "provenance": [],
      "collapsed_sections": [],
      "authorship_tag": "ABX9TyNkDd7fY32XQnSA3OIFWzf/",
      "include_colab_link": true
    },
    "kernelspec": {
      "name": "python3",
      "display_name": "Python 3"
    }
  },
  "cells": [
    {
      "cell_type": "markdown",
      "metadata": {
        "id": "view-in-github",
        "colab_type": "text"
      },
      "source": [
        "<a href=\"https://colab.research.google.com/github/aqwvinh/Basic_guideline_for_Machine_Learning/blob/master/CareerCon_2019_(Classification).ipynb\" target=\"_parent\"><img src=\"https://colab.research.google.com/assets/colab-badge.svg\" alt=\"Open In Colab\"/></a>"
      ]
    },
    {
      "cell_type": "markdown",
      "metadata": {
        "id": "y_VlJF5AKWJ0",
        "colab_type": "text"
      },
      "source": [
        "### Importation"
      ]
    },
    {
      "cell_type": "code",
      "metadata": {
        "id": "U9XbtZ3RFRZH",
        "colab_type": "code",
        "colab": {}
      },
      "source": [
        "# data analysis and wrangling\n",
        "import pandas as pd\n",
        "import numpy as np\n",
        "import random as rnd\n",
        "\n",
        "# visualization\n",
        "import seaborn as sns\n",
        "import matplotlib.pyplot as plt\n",
        "%matplotlib inline\n",
        "\n",
        "# machine learning\n",
        "from sklearn import metrics\n",
        "from sklearn.linear_model import LogisticRegression, SGDRegressor\n",
        "from sklearn.svm import SVC\n",
        "from sklearn.ensemble import RandomForestClassifier, ExtraTreesClassifier, GradientBoostingClassifier, AdaBoostClassifier, BaggingClassifier\n",
        "from sklearn.neighbors import KNeighborsClassifier\n",
        "from sklearn.linear_model import SGDClassifier\n",
        "from sklearn.tree import DecisionTreeClassifier\n",
        "from xgboost import XGBClassifier\n",
        "from lightgbm import LGBMClassifier\n"
      ],
      "execution_count": 0,
      "outputs": []
    },
    {
      "cell_type": "code",
      "metadata": {
        "id": "41U2sWNyBbNb",
        "colab_type": "code",
        "colab": {
          "base_uri": "https://localhost:8080/",
          "height": 102
        },
        "outputId": "09b14c39-c803-4721-9b1f-4fee3180cd4c"
      },
      "source": [
        "# Import dataset from Kaggle\n",
        "import os\n",
        "os.environ['KAGGLE_USERNAME'] = \"vinhnguyen94\" # username from the json file\n",
        "os.environ['KAGGLE_KEY'] = \"eb32c9bc896313e2f65c5948036bda01\" # key from the json file, create new one for each time\n",
        "!kaggle competitions download -c career-con-2019 # api copied from kaggle"
      ],
      "execution_count": 24,
      "outputs": [
        {
          "output_type": "stream",
          "text": [
            "Warning: Looks like you're using an outdated API Version, please consider updating (server 1.5.6 / client 1.5.4)\n",
            "sample_submission.csv: Skipping, found more recently modified local copy (use --force to force download)\n",
            "X_test.csv.zip: Skipping, found more recently modified local copy (use --force to force download)\n",
            "y_train.csv: Skipping, found more recently modified local copy (use --force to force download)\n",
            "X_train.csv.zip: Skipping, found more recently modified local copy (use --force to force download)\n"
          ],
          "name": "stdout"
        }
      ]
    },
    {
      "cell_type": "code",
      "metadata": {
        "id": "qpeY22xYDt9o",
        "colab_type": "code",
        "colab": {}
      },
      "source": [
        "X_train = pd.read_csv(\"X_train.csv.zip\")\n",
        "X_test = pd.read_csv(\"X_test.csv.zip\")\n",
        "y_train = pd.read_csv(\"y_train.csv\")"
      ],
      "execution_count": 0,
      "outputs": []
    },
    {
      "cell_type": "code",
      "metadata": {
        "id": "0wBFRFdmGeAh",
        "colab_type": "code",
        "colab": {
          "base_uri": "https://localhost:8080/",
          "height": 224
        },
        "outputId": "238389ad-b602-4a65-eea3-e7ac050590c8"
      },
      "source": [
        "X_train.head()"
      ],
      "execution_count": 26,
      "outputs": [
        {
          "output_type": "execute_result",
          "data": {
            "text/html": [
              "<div>\n",
              "<style scoped>\n",
              "    .dataframe tbody tr th:only-of-type {\n",
              "        vertical-align: middle;\n",
              "    }\n",
              "\n",
              "    .dataframe tbody tr th {\n",
              "        vertical-align: top;\n",
              "    }\n",
              "\n",
              "    .dataframe thead th {\n",
              "        text-align: right;\n",
              "    }\n",
              "</style>\n",
              "<table border=\"1\" class=\"dataframe\">\n",
              "  <thead>\n",
              "    <tr style=\"text-align: right;\">\n",
              "      <th></th>\n",
              "      <th>row_id</th>\n",
              "      <th>series_id</th>\n",
              "      <th>measurement_number</th>\n",
              "      <th>orientation_X</th>\n",
              "      <th>orientation_Y</th>\n",
              "      <th>orientation_Z</th>\n",
              "      <th>orientation_W</th>\n",
              "      <th>angular_velocity_X</th>\n",
              "      <th>angular_velocity_Y</th>\n",
              "      <th>angular_velocity_Z</th>\n",
              "      <th>linear_acceleration_X</th>\n",
              "      <th>linear_acceleration_Y</th>\n",
              "      <th>linear_acceleration_Z</th>\n",
              "    </tr>\n",
              "  </thead>\n",
              "  <tbody>\n",
              "    <tr>\n",
              "      <th>0</th>\n",
              "      <td>0_0</td>\n",
              "      <td>0</td>\n",
              "      <td>0</td>\n",
              "      <td>-0.75853</td>\n",
              "      <td>-0.63435</td>\n",
              "      <td>-0.10488</td>\n",
              "      <td>-0.10597</td>\n",
              "      <td>0.107650</td>\n",
              "      <td>0.017561</td>\n",
              "      <td>0.000767</td>\n",
              "      <td>-0.74857</td>\n",
              "      <td>2.1030</td>\n",
              "      <td>-9.7532</td>\n",
              "    </tr>\n",
              "    <tr>\n",
              "      <th>1</th>\n",
              "      <td>0_1</td>\n",
              "      <td>0</td>\n",
              "      <td>1</td>\n",
              "      <td>-0.75853</td>\n",
              "      <td>-0.63434</td>\n",
              "      <td>-0.10490</td>\n",
              "      <td>-0.10600</td>\n",
              "      <td>0.067851</td>\n",
              "      <td>0.029939</td>\n",
              "      <td>0.003385</td>\n",
              "      <td>0.33995</td>\n",
              "      <td>1.5064</td>\n",
              "      <td>-9.4128</td>\n",
              "    </tr>\n",
              "    <tr>\n",
              "      <th>2</th>\n",
              "      <td>0_2</td>\n",
              "      <td>0</td>\n",
              "      <td>2</td>\n",
              "      <td>-0.75853</td>\n",
              "      <td>-0.63435</td>\n",
              "      <td>-0.10492</td>\n",
              "      <td>-0.10597</td>\n",
              "      <td>0.007275</td>\n",
              "      <td>0.028934</td>\n",
              "      <td>-0.005978</td>\n",
              "      <td>-0.26429</td>\n",
              "      <td>1.5922</td>\n",
              "      <td>-8.7267</td>\n",
              "    </tr>\n",
              "    <tr>\n",
              "      <th>3</th>\n",
              "      <td>0_3</td>\n",
              "      <td>0</td>\n",
              "      <td>3</td>\n",
              "      <td>-0.75852</td>\n",
              "      <td>-0.63436</td>\n",
              "      <td>-0.10495</td>\n",
              "      <td>-0.10597</td>\n",
              "      <td>-0.013053</td>\n",
              "      <td>0.019448</td>\n",
              "      <td>-0.008974</td>\n",
              "      <td>0.42684</td>\n",
              "      <td>1.0993</td>\n",
              "      <td>-10.0960</td>\n",
              "    </tr>\n",
              "    <tr>\n",
              "      <th>4</th>\n",
              "      <td>0_4</td>\n",
              "      <td>0</td>\n",
              "      <td>4</td>\n",
              "      <td>-0.75852</td>\n",
              "      <td>-0.63435</td>\n",
              "      <td>-0.10495</td>\n",
              "      <td>-0.10596</td>\n",
              "      <td>0.005135</td>\n",
              "      <td>0.007652</td>\n",
              "      <td>0.005245</td>\n",
              "      <td>-0.50969</td>\n",
              "      <td>1.4689</td>\n",
              "      <td>-10.4410</td>\n",
              "    </tr>\n",
              "  </tbody>\n",
              "</table>\n",
              "</div>"
            ],
            "text/plain": [
              "  row_id  series_id  ...  linear_acceleration_Y  linear_acceleration_Z\n",
              "0    0_0          0  ...                 2.1030                -9.7532\n",
              "1    0_1          0  ...                 1.5064                -9.4128\n",
              "2    0_2          0  ...                 1.5922                -8.7267\n",
              "3    0_3          0  ...                 1.0993               -10.0960\n",
              "4    0_4          0  ...                 1.4689               -10.4410\n",
              "\n",
              "[5 rows x 13 columns]"
            ]
          },
          "metadata": {
            "tags": []
          },
          "execution_count": 26
        }
      ]
    },
    {
      "cell_type": "code",
      "metadata": {
        "id": "ws6-Zh6xTLN3",
        "colab_type": "code",
        "colab": {
          "base_uri": "https://localhost:8080/",
          "height": 224
        },
        "outputId": "ef567660-0f68-4d96-c2d5-dc1ae1feca04"
      },
      "source": [
        "X_test.head()"
      ],
      "execution_count": 27,
      "outputs": [
        {
          "output_type": "execute_result",
          "data": {
            "text/html": [
              "<div>\n",
              "<style scoped>\n",
              "    .dataframe tbody tr th:only-of-type {\n",
              "        vertical-align: middle;\n",
              "    }\n",
              "\n",
              "    .dataframe tbody tr th {\n",
              "        vertical-align: top;\n",
              "    }\n",
              "\n",
              "    .dataframe thead th {\n",
              "        text-align: right;\n",
              "    }\n",
              "</style>\n",
              "<table border=\"1\" class=\"dataframe\">\n",
              "  <thead>\n",
              "    <tr style=\"text-align: right;\">\n",
              "      <th></th>\n",
              "      <th>row_id</th>\n",
              "      <th>series_id</th>\n",
              "      <th>measurement_number</th>\n",
              "      <th>orientation_X</th>\n",
              "      <th>orientation_Y</th>\n",
              "      <th>orientation_Z</th>\n",
              "      <th>orientation_W</th>\n",
              "      <th>angular_velocity_X</th>\n",
              "      <th>angular_velocity_Y</th>\n",
              "      <th>angular_velocity_Z</th>\n",
              "      <th>linear_acceleration_X</th>\n",
              "      <th>linear_acceleration_Y</th>\n",
              "      <th>linear_acceleration_Z</th>\n",
              "    </tr>\n",
              "  </thead>\n",
              "  <tbody>\n",
              "    <tr>\n",
              "      <th>0</th>\n",
              "      <td>0_0</td>\n",
              "      <td>0</td>\n",
              "      <td>0</td>\n",
              "      <td>0.91208</td>\n",
              "      <td>-0.38193</td>\n",
              "      <td>-0.050618</td>\n",
              "      <td>0.14028</td>\n",
              "      <td>-0.060205</td>\n",
              "      <td>0.071286</td>\n",
              "      <td>-0.18787</td>\n",
              "      <td>0.29492</td>\n",
              "      <td>2.8027</td>\n",
              "      <td>-9.6816</td>\n",
              "    </tr>\n",
              "    <tr>\n",
              "      <th>1</th>\n",
              "      <td>0_1</td>\n",
              "      <td>0</td>\n",
              "      <td>1</td>\n",
              "      <td>0.91220</td>\n",
              "      <td>-0.38165</td>\n",
              "      <td>-0.050573</td>\n",
              "      <td>0.14028</td>\n",
              "      <td>-0.033486</td>\n",
              "      <td>0.060210</td>\n",
              "      <td>-0.18206</td>\n",
              "      <td>0.14944</td>\n",
              "      <td>2.5408</td>\n",
              "      <td>-9.8521</td>\n",
              "    </tr>\n",
              "    <tr>\n",
              "      <th>2</th>\n",
              "      <td>0_2</td>\n",
              "      <td>0</td>\n",
              "      <td>2</td>\n",
              "      <td>0.91228</td>\n",
              "      <td>-0.38143</td>\n",
              "      <td>-0.050586</td>\n",
              "      <td>0.14032</td>\n",
              "      <td>-0.029686</td>\n",
              "      <td>0.029476</td>\n",
              "      <td>-0.18441</td>\n",
              "      <td>-0.49741</td>\n",
              "      <td>2.5853</td>\n",
              "      <td>-9.3835</td>\n",
              "    </tr>\n",
              "    <tr>\n",
              "      <th>3</th>\n",
              "      <td>0_3</td>\n",
              "      <td>0</td>\n",
              "      <td>3</td>\n",
              "      <td>0.91237</td>\n",
              "      <td>-0.38121</td>\n",
              "      <td>-0.050588</td>\n",
              "      <td>0.14035</td>\n",
              "      <td>-0.024217</td>\n",
              "      <td>0.037788</td>\n",
              "      <td>-0.18783</td>\n",
              "      <td>-0.32376</td>\n",
              "      <td>2.9966</td>\n",
              "      <td>-8.7415</td>\n",
              "    </tr>\n",
              "    <tr>\n",
              "      <th>4</th>\n",
              "      <td>0_4</td>\n",
              "      <td>0</td>\n",
              "      <td>4</td>\n",
              "      <td>0.91247</td>\n",
              "      <td>-0.38096</td>\n",
              "      <td>-0.050546</td>\n",
              "      <td>0.14042</td>\n",
              "      <td>-0.038047</td>\n",
              "      <td>0.083405</td>\n",
              "      <td>-0.20170</td>\n",
              "      <td>-0.70103</td>\n",
              "      <td>2.6498</td>\n",
              "      <td>-8.8432</td>\n",
              "    </tr>\n",
              "  </tbody>\n",
              "</table>\n",
              "</div>"
            ],
            "text/plain": [
              "  row_id  series_id  ...  linear_acceleration_Y  linear_acceleration_Z\n",
              "0    0_0          0  ...                 2.8027                -9.6816\n",
              "1    0_1          0  ...                 2.5408                -9.8521\n",
              "2    0_2          0  ...                 2.5853                -9.3835\n",
              "3    0_3          0  ...                 2.9966                -8.7415\n",
              "4    0_4          0  ...                 2.6498                -8.8432\n",
              "\n",
              "[5 rows x 13 columns]"
            ]
          },
          "metadata": {
            "tags": []
          },
          "execution_count": 27
        }
      ]
    },
    {
      "cell_type": "code",
      "metadata": {
        "id": "YmCMlvSKIKsT",
        "colab_type": "code",
        "colab": {
          "base_uri": "https://localhost:8080/",
          "height": 204
        },
        "outputId": "52e56f70-40b8-4f6d-c666-8fb3d5b799a8"
      },
      "source": [
        "y_train.head()"
      ],
      "execution_count": 28,
      "outputs": [
        {
          "output_type": "execute_result",
          "data": {
            "text/html": [
              "<div>\n",
              "<style scoped>\n",
              "    .dataframe tbody tr th:only-of-type {\n",
              "        vertical-align: middle;\n",
              "    }\n",
              "\n",
              "    .dataframe tbody tr th {\n",
              "        vertical-align: top;\n",
              "    }\n",
              "\n",
              "    .dataframe thead th {\n",
              "        text-align: right;\n",
              "    }\n",
              "</style>\n",
              "<table border=\"1\" class=\"dataframe\">\n",
              "  <thead>\n",
              "    <tr style=\"text-align: right;\">\n",
              "      <th></th>\n",
              "      <th>series_id</th>\n",
              "      <th>group_id</th>\n",
              "      <th>surface</th>\n",
              "    </tr>\n",
              "  </thead>\n",
              "  <tbody>\n",
              "    <tr>\n",
              "      <th>0</th>\n",
              "      <td>0</td>\n",
              "      <td>13</td>\n",
              "      <td>fine_concrete</td>\n",
              "    </tr>\n",
              "    <tr>\n",
              "      <th>1</th>\n",
              "      <td>1</td>\n",
              "      <td>31</td>\n",
              "      <td>concrete</td>\n",
              "    </tr>\n",
              "    <tr>\n",
              "      <th>2</th>\n",
              "      <td>2</td>\n",
              "      <td>20</td>\n",
              "      <td>concrete</td>\n",
              "    </tr>\n",
              "    <tr>\n",
              "      <th>3</th>\n",
              "      <td>3</td>\n",
              "      <td>31</td>\n",
              "      <td>concrete</td>\n",
              "    </tr>\n",
              "    <tr>\n",
              "      <th>4</th>\n",
              "      <td>4</td>\n",
              "      <td>22</td>\n",
              "      <td>soft_tiles</td>\n",
              "    </tr>\n",
              "  </tbody>\n",
              "</table>\n",
              "</div>"
            ],
            "text/plain": [
              "   series_id  group_id        surface\n",
              "0          0        13  fine_concrete\n",
              "1          1        31       concrete\n",
              "2          2        20       concrete\n",
              "3          3        31       concrete\n",
              "4          4        22     soft_tiles"
            ]
          },
          "metadata": {
            "tags": []
          },
          "execution_count": 28
        }
      ]
    },
    {
      "cell_type": "code",
      "metadata": {
        "id": "IaVnQ2hLJbnt",
        "colab_type": "code",
        "colab": {
          "base_uri": "https://localhost:8080/",
          "height": 34
        },
        "outputId": "d3311496-36a5-4bb8-d5de-4565796bcfcc"
      },
      "source": [
        "X_train[\"series_id\"].nunique(), y_train.shape"
      ],
      "execution_count": 29,
      "outputs": [
        {
          "output_type": "execute_result",
          "data": {
            "text/plain": [
              "(3810, (3810, 3))"
            ]
          },
          "metadata": {
            "tags": []
          },
          "execution_count": 29
        }
      ]
    },
    {
      "cell_type": "markdown",
      "metadata": {
        "id": "7LWC5CGuPLHW",
        "colab_type": "text"
      },
      "source": [
        "### Missing values"
      ]
    },
    {
      "cell_type": "code",
      "metadata": {
        "id": "3VhTicQvPNEL",
        "colab_type": "code",
        "colab": {
          "base_uri": "https://localhost:8080/",
          "height": 255
        },
        "outputId": "19da0bf4-6b64-42fd-9063-3ca4f15c9eb1"
      },
      "source": [
        "# Check number of missing values\n",
        "len(X_train) - X_train.count()"
      ],
      "execution_count": 30,
      "outputs": [
        {
          "output_type": "execute_result",
          "data": {
            "text/plain": [
              "row_id                   0\n",
              "series_id                0\n",
              "measurement_number       0\n",
              "orientation_X            0\n",
              "orientation_Y            0\n",
              "orientation_Z            0\n",
              "orientation_W            0\n",
              "angular_velocity_X       0\n",
              "angular_velocity_Y       0\n",
              "angular_velocity_Z       0\n",
              "linear_acceleration_X    0\n",
              "linear_acceleration_Y    0\n",
              "linear_acceleration_Z    0\n",
              "dtype: int64"
            ]
          },
          "metadata": {
            "tags": []
          },
          "execution_count": 30
        }
      ]
    },
    {
      "cell_type": "code",
      "metadata": {
        "id": "d1BOIjJTTRUe",
        "colab_type": "code",
        "colab": {
          "base_uri": "https://localhost:8080/",
          "height": 255
        },
        "outputId": "73992d4f-6ba8-4b4b-a921-d736d699813e"
      },
      "source": [
        "# Check number of missing values\n",
        "len(X_test) - X_test.count()"
      ],
      "execution_count": 31,
      "outputs": [
        {
          "output_type": "execute_result",
          "data": {
            "text/plain": [
              "row_id                   0\n",
              "series_id                0\n",
              "measurement_number       0\n",
              "orientation_X            0\n",
              "orientation_Y            0\n",
              "orientation_Z            0\n",
              "orientation_W            0\n",
              "angular_velocity_X       0\n",
              "angular_velocity_Y       0\n",
              "angular_velocity_Z       0\n",
              "linear_acceleration_X    0\n",
              "linear_acceleration_Y    0\n",
              "linear_acceleration_Z    0\n",
              "dtype: int64"
            ]
          },
          "metadata": {
            "tags": []
          },
          "execution_count": 31
        }
      ]
    },
    {
      "cell_type": "markdown",
      "metadata": {
        "id": "kKgzQO4bPabn",
        "colab_type": "text"
      },
      "source": [
        "### Data preprocessing"
      ]
    },
    {
      "cell_type": "code",
      "metadata": {
        "id": "-e-QewZRPe06",
        "colab_type": "code",
        "colab": {
          "base_uri": "https://localhost:8080/",
          "height": 102
        },
        "outputId": "f102adcf-87af-4947-8f8c-4aafac1de1d2"
      },
      "source": [
        "# Get column names for X_train\n",
        "col_names = X_train.columns\n",
        "col_names"
      ],
      "execution_count": 32,
      "outputs": [
        {
          "output_type": "execute_result",
          "data": {
            "text/plain": [
              "Index(['row_id', 'series_id', 'measurement_number', 'orientation_X',\n",
              "       'orientation_Y', 'orientation_Z', 'orientation_W', 'angular_velocity_X',\n",
              "       'angular_velocity_Y', 'angular_velocity_Z', 'linear_acceleration_X',\n",
              "       'linear_acceleration_Y', 'linear_acceleration_Z'],\n",
              "      dtype='object')"
            ]
          },
          "metadata": {
            "tags": []
          },
          "execution_count": 32
        }
      ]
    },
    {
      "cell_type": "code",
      "metadata": {
        "id": "Lt_2TS1OTWIO",
        "colab_type": "code",
        "colab": {
          "base_uri": "https://localhost:8080/",
          "height": 102
        },
        "outputId": "e7ff7b51-9220-409c-8c6d-8e10c9dd1535"
      },
      "source": [
        "# Get column names for X_test\n",
        "col_names2 = X_test.columns\n",
        "col_names2"
      ],
      "execution_count": 33,
      "outputs": [
        {
          "output_type": "execute_result",
          "data": {
            "text/plain": [
              "Index(['row_id', 'series_id', 'measurement_number', 'orientation_X',\n",
              "       'orientation_Y', 'orientation_Z', 'orientation_W', 'angular_velocity_X',\n",
              "       'angular_velocity_Y', 'angular_velocity_Z', 'linear_acceleration_X',\n",
              "       'linear_acceleration_Y', 'linear_acceleration_Z'],\n",
              "      dtype='object')"
            ]
          },
          "metadata": {
            "tags": []
          },
          "execution_count": 33
        }
      ]
    },
    {
      "cell_type": "code",
      "metadata": {
        "id": "rxw036f2LYtR",
        "colab_type": "code",
        "colab": {
          "base_uri": "https://localhost:8080/",
          "height": 470
        },
        "outputId": "484a1cfb-0107-407c-d6fa-e4719f38e48b"
      },
      "source": [
        "# Group X_train by series_id using the mean of the features and drop measurement_number\n",
        "X_train_group = X_train[[\"series_id\",\"orientation_X\", \"orientation_Y\", 'orientation_Z', 'orientation_W', 'angular_velocity_X',\n",
        "       'angular_velocity_Y', 'angular_velocity_Z', 'linear_acceleration_X',\n",
        "       'linear_acceleration_Y', 'linear_acceleration_Z']].groupby(['series_id']).mean()\n",
        "X_train_group"
      ],
      "execution_count": 34,
      "outputs": [
        {
          "output_type": "execute_result",
          "data": {
            "text/html": [
              "<div>\n",
              "<style scoped>\n",
              "    .dataframe tbody tr th:only-of-type {\n",
              "        vertical-align: middle;\n",
              "    }\n",
              "\n",
              "    .dataframe tbody tr th {\n",
              "        vertical-align: top;\n",
              "    }\n",
              "\n",
              "    .dataframe thead th {\n",
              "        text-align: right;\n",
              "    }\n",
              "</style>\n",
              "<table border=\"1\" class=\"dataframe\">\n",
              "  <thead>\n",
              "    <tr style=\"text-align: right;\">\n",
              "      <th></th>\n",
              "      <th>orientation_X</th>\n",
              "      <th>orientation_Y</th>\n",
              "      <th>orientation_Z</th>\n",
              "      <th>orientation_W</th>\n",
              "      <th>angular_velocity_X</th>\n",
              "      <th>angular_velocity_Y</th>\n",
              "      <th>angular_velocity_Z</th>\n",
              "      <th>linear_acceleration_X</th>\n",
              "      <th>linear_acceleration_Y</th>\n",
              "      <th>linear_acceleration_Z</th>\n",
              "    </tr>\n",
              "    <tr>\n",
              "      <th>series_id</th>\n",
              "      <th></th>\n",
              "      <th></th>\n",
              "      <th></th>\n",
              "      <th></th>\n",
              "      <th></th>\n",
              "      <th></th>\n",
              "      <th></th>\n",
              "      <th></th>\n",
              "      <th></th>\n",
              "      <th></th>\n",
              "    </tr>\n",
              "  </thead>\n",
              "  <tbody>\n",
              "    <tr>\n",
              "      <th>0</th>\n",
              "      <td>-0.758666</td>\n",
              "      <td>-0.634008</td>\n",
              "      <td>-0.105474</td>\n",
              "      <td>-0.106470</td>\n",
              "      <td>-0.002481</td>\n",
              "      <td>-0.003306</td>\n",
              "      <td>0.007532</td>\n",
              "      <td>0.263418</td>\n",
              "      <td>2.984195</td>\n",
              "      <td>-9.320391</td>\n",
              "    </tr>\n",
              "    <tr>\n",
              "      <th>1</th>\n",
              "      <td>-0.958606</td>\n",
              "      <td>0.241867</td>\n",
              "      <td>0.031650</td>\n",
              "      <td>-0.146876</td>\n",
              "      <td>0.004605</td>\n",
              "      <td>-0.007757</td>\n",
              "      <td>0.006206</td>\n",
              "      <td>0.121867</td>\n",
              "      <td>2.768193</td>\n",
              "      <td>-9.388899</td>\n",
              "    </tr>\n",
              "    <tr>\n",
              "      <th>2</th>\n",
              "      <td>-0.512057</td>\n",
              "      <td>-0.846171</td>\n",
              "      <td>-0.129371</td>\n",
              "      <td>-0.071082</td>\n",
              "      <td>0.002646</td>\n",
              "      <td>-0.009232</td>\n",
              "      <td>0.027989</td>\n",
              "      <td>0.149711</td>\n",
              "      <td>2.886745</td>\n",
              "      <td>-9.395783</td>\n",
              "    </tr>\n",
              "    <tr>\n",
              "      <th>3</th>\n",
              "      <td>-0.939169</td>\n",
              "      <td>0.310140</td>\n",
              "      <td>0.038955</td>\n",
              "      <td>-0.142319</td>\n",
              "      <td>0.000624</td>\n",
              "      <td>-0.002804</td>\n",
              "      <td>0.007887</td>\n",
              "      <td>0.201791</td>\n",
              "      <td>2.657922</td>\n",
              "      <td>-9.451164</td>\n",
              "    </tr>\n",
              "    <tr>\n",
              "      <th>4</th>\n",
              "      <td>-0.891301</td>\n",
              "      <td>0.428144</td>\n",
              "      <td>0.060056</td>\n",
              "      <td>-0.136460</td>\n",
              "      <td>0.006969</td>\n",
              "      <td>0.046109</td>\n",
              "      <td>-0.142385</td>\n",
              "      <td>-0.086171</td>\n",
              "      <td>2.981498</td>\n",
              "      <td>-9.349988</td>\n",
              "    </tr>\n",
              "    <tr>\n",
              "      <th>...</th>\n",
              "      <td>...</td>\n",
              "      <td>...</td>\n",
              "      <td>...</td>\n",
              "      <td>...</td>\n",
              "      <td>...</td>\n",
              "      <td>...</td>\n",
              "      <td>...</td>\n",
              "      <td>...</td>\n",
              "      <td>...</td>\n",
              "      <td>...</td>\n",
              "    </tr>\n",
              "    <tr>\n",
              "      <th>3805</th>\n",
              "      <td>-0.228787</td>\n",
              "      <td>0.961730</td>\n",
              "      <td>0.144690</td>\n",
              "      <td>-0.042361</td>\n",
              "      <td>0.002519</td>\n",
              "      <td>0.008479</td>\n",
              "      <td>-0.021297</td>\n",
              "      <td>0.266687</td>\n",
              "      <td>2.745177</td>\n",
              "      <td>-9.465299</td>\n",
              "    </tr>\n",
              "    <tr>\n",
              "      <th>3806</th>\n",
              "      <td>0.542262</td>\n",
              "      <td>0.826590</td>\n",
              "      <td>0.129890</td>\n",
              "      <td>0.076335</td>\n",
              "      <td>-0.000453</td>\n",
              "      <td>0.003409</td>\n",
              "      <td>-0.000416</td>\n",
              "      <td>0.136476</td>\n",
              "      <td>2.900305</td>\n",
              "      <td>-9.367247</td>\n",
              "    </tr>\n",
              "    <tr>\n",
              "      <th>3807</th>\n",
              "      <td>-0.416511</td>\n",
              "      <td>0.895374</td>\n",
              "      <td>0.140185</td>\n",
              "      <td>-0.070016</td>\n",
              "      <td>0.031838</td>\n",
              "      <td>0.103777</td>\n",
              "      <td>-0.338278</td>\n",
              "      <td>-0.061158</td>\n",
              "      <td>3.660786</td>\n",
              "      <td>-9.192466</td>\n",
              "    </tr>\n",
              "    <tr>\n",
              "      <th>3808</th>\n",
              "      <td>-0.264584</td>\n",
              "      <td>0.952734</td>\n",
              "      <td>0.142060</td>\n",
              "      <td>-0.045705</td>\n",
              "      <td>0.001128</td>\n",
              "      <td>-0.029315</td>\n",
              "      <td>0.088592</td>\n",
              "      <td>0.218964</td>\n",
              "      <td>3.075475</td>\n",
              "      <td>-9.345442</td>\n",
              "    </tr>\n",
              "    <tr>\n",
              "      <th>3809</th>\n",
              "      <td>0.627878</td>\n",
              "      <td>-0.769601</td>\n",
              "      <td>-0.083867</td>\n",
              "      <td>0.080308</td>\n",
              "      <td>-0.003995</td>\n",
              "      <td>0.000495</td>\n",
              "      <td>0.002248</td>\n",
              "      <td>0.150692</td>\n",
              "      <td>2.222328</td>\n",
              "      <td>-9.560770</td>\n",
              "    </tr>\n",
              "  </tbody>\n",
              "</table>\n",
              "<p>3810 rows × 10 columns</p>\n",
              "</div>"
            ],
            "text/plain": [
              "           orientation_X  ...  linear_acceleration_Z\n",
              "series_id                 ...                       \n",
              "0              -0.758666  ...              -9.320391\n",
              "1              -0.958606  ...              -9.388899\n",
              "2              -0.512057  ...              -9.395783\n",
              "3              -0.939169  ...              -9.451164\n",
              "4              -0.891301  ...              -9.349988\n",
              "...                  ...  ...                    ...\n",
              "3805           -0.228787  ...              -9.465299\n",
              "3806            0.542262  ...              -9.367247\n",
              "3807           -0.416511  ...              -9.192466\n",
              "3808           -0.264584  ...              -9.345442\n",
              "3809            0.627878  ...              -9.560770\n",
              "\n",
              "[3810 rows x 10 columns]"
            ]
          },
          "metadata": {
            "tags": []
          },
          "execution_count": 34
        }
      ]
    },
    {
      "cell_type": "code",
      "metadata": {
        "id": "TN9p07jdTbyh",
        "colab_type": "code",
        "colab": {
          "base_uri": "https://localhost:8080/",
          "height": 470
        },
        "outputId": "dbef5825-618d-4785-d0b6-72ef08c95392"
      },
      "source": [
        "# Group X_test by series_id using the mean of the features and drop measurement_number\n",
        "X_test_group = X_test[[\"series_id\",\"orientation_X\", \"orientation_Y\", 'orientation_Z', 'orientation_W', 'angular_velocity_X',\n",
        "       'angular_velocity_Y', 'angular_velocity_Z', 'linear_acceleration_X',\n",
        "       'linear_acceleration_Y', 'linear_acceleration_Z']].groupby(['series_id']).mean()\n",
        "X_test_group"
      ],
      "execution_count": 35,
      "outputs": [
        {
          "output_type": "execute_result",
          "data": {
            "text/html": [
              "<div>\n",
              "<style scoped>\n",
              "    .dataframe tbody tr th:only-of-type {\n",
              "        vertical-align: middle;\n",
              "    }\n",
              "\n",
              "    .dataframe tbody tr th {\n",
              "        vertical-align: top;\n",
              "    }\n",
              "\n",
              "    .dataframe thead th {\n",
              "        text-align: right;\n",
              "    }\n",
              "</style>\n",
              "<table border=\"1\" class=\"dataframe\">\n",
              "  <thead>\n",
              "    <tr style=\"text-align: right;\">\n",
              "      <th></th>\n",
              "      <th>orientation_X</th>\n",
              "      <th>orientation_Y</th>\n",
              "      <th>orientation_Z</th>\n",
              "      <th>orientation_W</th>\n",
              "      <th>angular_velocity_X</th>\n",
              "      <th>angular_velocity_Y</th>\n",
              "      <th>angular_velocity_Z</th>\n",
              "      <th>linear_acceleration_X</th>\n",
              "      <th>linear_acceleration_Y</th>\n",
              "      <th>linear_acceleration_Z</th>\n",
              "    </tr>\n",
              "    <tr>\n",
              "      <th>series_id</th>\n",
              "      <th></th>\n",
              "      <th></th>\n",
              "      <th></th>\n",
              "      <th></th>\n",
              "      <th></th>\n",
              "      <th></th>\n",
              "      <th></th>\n",
              "      <th></th>\n",
              "      <th></th>\n",
              "      <th></th>\n",
              "    </tr>\n",
              "  </thead>\n",
              "  <tbody>\n",
              "    <tr>\n",
              "      <th>0</th>\n",
              "      <td>0.919651</td>\n",
              "      <td>-0.362914</td>\n",
              "      <td>-0.047720</td>\n",
              "      <td>0.141749</td>\n",
              "      <td>-0.003581</td>\n",
              "      <td>0.083816</td>\n",
              "      <td>-0.254101</td>\n",
              "      <td>-0.151913</td>\n",
              "      <td>3.043463</td>\n",
              "      <td>-9.327918</td>\n",
              "    </tr>\n",
              "    <tr>\n",
              "      <th>1</th>\n",
              "      <td>0.043135</td>\n",
              "      <td>-0.987147</td>\n",
              "      <td>-0.147972</td>\n",
              "      <td>0.013861</td>\n",
              "      <td>0.019435</td>\n",
              "      <td>0.255122</td>\n",
              "      <td>-0.804857</td>\n",
              "      <td>0.160749</td>\n",
              "      <td>3.185698</td>\n",
              "      <td>-9.288633</td>\n",
              "    </tr>\n",
              "    <tr>\n",
              "      <th>2</th>\n",
              "      <td>-0.914825</td>\n",
              "      <td>0.376669</td>\n",
              "      <td>0.051761</td>\n",
              "      <td>-0.136139</td>\n",
              "      <td>0.002489</td>\n",
              "      <td>0.004208</td>\n",
              "      <td>0.010646</td>\n",
              "      <td>0.099235</td>\n",
              "      <td>2.959077</td>\n",
              "      <td>-9.395998</td>\n",
              "    </tr>\n",
              "    <tr>\n",
              "      <th>3</th>\n",
              "      <td>0.928206</td>\n",
              "      <td>0.338873</td>\n",
              "      <td>0.060741</td>\n",
              "      <td>0.138377</td>\n",
              "      <td>-0.010286</td>\n",
              "      <td>-0.170136</td>\n",
              "      <td>0.576255</td>\n",
              "      <td>0.584179</td>\n",
              "      <td>3.364273</td>\n",
              "      <td>-9.207547</td>\n",
              "    </tr>\n",
              "    <tr>\n",
              "      <th>4</th>\n",
              "      <td>-0.869592</td>\n",
              "      <td>0.470784</td>\n",
              "      <td>0.062041</td>\n",
              "      <td>-0.135351</td>\n",
              "      <td>-0.003275</td>\n",
              "      <td>-0.011757</td>\n",
              "      <td>0.022096</td>\n",
              "      <td>0.320250</td>\n",
              "      <td>2.683565</td>\n",
              "      <td>-9.338934</td>\n",
              "    </tr>\n",
              "    <tr>\n",
              "      <th>...</th>\n",
              "      <td>...</td>\n",
              "      <td>...</td>\n",
              "      <td>...</td>\n",
              "      <td>...</td>\n",
              "      <td>...</td>\n",
              "      <td>...</td>\n",
              "      <td>...</td>\n",
              "      <td>...</td>\n",
              "      <td>...</td>\n",
              "      <td>...</td>\n",
              "    </tr>\n",
              "    <tr>\n",
              "      <th>3811</th>\n",
              "      <td>-0.445217</td>\n",
              "      <td>-0.882418</td>\n",
              "      <td>-0.137777</td>\n",
              "      <td>-0.064218</td>\n",
              "      <td>-0.006429</td>\n",
              "      <td>0.029837</td>\n",
              "      <td>-0.080352</td>\n",
              "      <td>0.181259</td>\n",
              "      <td>2.930360</td>\n",
              "      <td>-9.411496</td>\n",
              "    </tr>\n",
              "    <tr>\n",
              "      <th>3812</th>\n",
              "      <td>-0.204659</td>\n",
              "      <td>0.967105</td>\n",
              "      <td>0.145481</td>\n",
              "      <td>-0.040604</td>\n",
              "      <td>-0.004471</td>\n",
              "      <td>-0.022723</td>\n",
              "      <td>0.063266</td>\n",
              "      <td>0.251856</td>\n",
              "      <td>2.924053</td>\n",
              "      <td>-9.344760</td>\n",
              "    </tr>\n",
              "    <tr>\n",
              "      <th>3813</th>\n",
              "      <td>0.474399</td>\n",
              "      <td>0.867587</td>\n",
              "      <td>0.133288</td>\n",
              "      <td>0.066814</td>\n",
              "      <td>-0.000403</td>\n",
              "      <td>-0.011272</td>\n",
              "      <td>0.054685</td>\n",
              "      <td>-0.026059</td>\n",
              "      <td>2.978274</td>\n",
              "      <td>-9.338603</td>\n",
              "    </tr>\n",
              "    <tr>\n",
              "      <th>3814</th>\n",
              "      <td>0.407007</td>\n",
              "      <td>-0.901403</td>\n",
              "      <td>-0.131258</td>\n",
              "      <td>0.067741</td>\n",
              "      <td>0.006660</td>\n",
              "      <td>0.003394</td>\n",
              "      <td>-0.009464</td>\n",
              "      <td>0.146190</td>\n",
              "      <td>2.815105</td>\n",
              "      <td>-9.368666</td>\n",
              "    </tr>\n",
              "    <tr>\n",
              "      <th>3815</th>\n",
              "      <td>0.894771</td>\n",
              "      <td>-0.421280</td>\n",
              "      <td>-0.056505</td>\n",
              "      <td>0.136803</td>\n",
              "      <td>-0.001854</td>\n",
              "      <td>0.004865</td>\n",
              "      <td>-0.000522</td>\n",
              "      <td>0.115984</td>\n",
              "      <td>2.919469</td>\n",
              "      <td>-9.362302</td>\n",
              "    </tr>\n",
              "  </tbody>\n",
              "</table>\n",
              "<p>3816 rows × 10 columns</p>\n",
              "</div>"
            ],
            "text/plain": [
              "           orientation_X  ...  linear_acceleration_Z\n",
              "series_id                 ...                       \n",
              "0               0.919651  ...              -9.327918\n",
              "1               0.043135  ...              -9.288633\n",
              "2              -0.914825  ...              -9.395998\n",
              "3               0.928206  ...              -9.207547\n",
              "4              -0.869592  ...              -9.338934\n",
              "...                  ...  ...                    ...\n",
              "3811           -0.445217  ...              -9.411496\n",
              "3812           -0.204659  ...              -9.344760\n",
              "3813            0.474399  ...              -9.338603\n",
              "3814            0.407007  ...              -9.368666\n",
              "3815            0.894771  ...              -9.362302\n",
              "\n",
              "[3816 rows x 10 columns]"
            ]
          },
          "metadata": {
            "tags": []
          },
          "execution_count": 35
        }
      ]
    },
    {
      "cell_type": "code",
      "metadata": {
        "id": "uMUAhiIGYFsA",
        "colab_type": "code",
        "colab": {}
      },
      "source": [
        "X_test_group.reset_index(drop=False, inplace=True)"
      ],
      "execution_count": 0,
      "outputs": []
    },
    {
      "cell_type": "code",
      "metadata": {
        "id": "Yrc6ul2cjc3c",
        "colab_type": "code",
        "colab": {
          "base_uri": "https://localhost:8080/",
          "height": 224
        },
        "outputId": "4e9bb112-c694-419d-c7ee-034fc826ff6d"
      },
      "source": [
        "X_test_group.head()"
      ],
      "execution_count": 37,
      "outputs": [
        {
          "output_type": "execute_result",
          "data": {
            "text/html": [
              "<div>\n",
              "<style scoped>\n",
              "    .dataframe tbody tr th:only-of-type {\n",
              "        vertical-align: middle;\n",
              "    }\n",
              "\n",
              "    .dataframe tbody tr th {\n",
              "        vertical-align: top;\n",
              "    }\n",
              "\n",
              "    .dataframe thead th {\n",
              "        text-align: right;\n",
              "    }\n",
              "</style>\n",
              "<table border=\"1\" class=\"dataframe\">\n",
              "  <thead>\n",
              "    <tr style=\"text-align: right;\">\n",
              "      <th></th>\n",
              "      <th>series_id</th>\n",
              "      <th>orientation_X</th>\n",
              "      <th>orientation_Y</th>\n",
              "      <th>orientation_Z</th>\n",
              "      <th>orientation_W</th>\n",
              "      <th>angular_velocity_X</th>\n",
              "      <th>angular_velocity_Y</th>\n",
              "      <th>angular_velocity_Z</th>\n",
              "      <th>linear_acceleration_X</th>\n",
              "      <th>linear_acceleration_Y</th>\n",
              "      <th>linear_acceleration_Z</th>\n",
              "    </tr>\n",
              "  </thead>\n",
              "  <tbody>\n",
              "    <tr>\n",
              "      <th>0</th>\n",
              "      <td>0</td>\n",
              "      <td>0.919651</td>\n",
              "      <td>-0.362914</td>\n",
              "      <td>-0.047720</td>\n",
              "      <td>0.141749</td>\n",
              "      <td>-0.003581</td>\n",
              "      <td>0.083816</td>\n",
              "      <td>-0.254101</td>\n",
              "      <td>-0.151913</td>\n",
              "      <td>3.043463</td>\n",
              "      <td>-9.327918</td>\n",
              "    </tr>\n",
              "    <tr>\n",
              "      <th>1</th>\n",
              "      <td>1</td>\n",
              "      <td>0.043135</td>\n",
              "      <td>-0.987147</td>\n",
              "      <td>-0.147972</td>\n",
              "      <td>0.013861</td>\n",
              "      <td>0.019435</td>\n",
              "      <td>0.255122</td>\n",
              "      <td>-0.804857</td>\n",
              "      <td>0.160749</td>\n",
              "      <td>3.185698</td>\n",
              "      <td>-9.288633</td>\n",
              "    </tr>\n",
              "    <tr>\n",
              "      <th>2</th>\n",
              "      <td>2</td>\n",
              "      <td>-0.914825</td>\n",
              "      <td>0.376669</td>\n",
              "      <td>0.051761</td>\n",
              "      <td>-0.136139</td>\n",
              "      <td>0.002489</td>\n",
              "      <td>0.004208</td>\n",
              "      <td>0.010646</td>\n",
              "      <td>0.099235</td>\n",
              "      <td>2.959077</td>\n",
              "      <td>-9.395998</td>\n",
              "    </tr>\n",
              "    <tr>\n",
              "      <th>3</th>\n",
              "      <td>3</td>\n",
              "      <td>0.928206</td>\n",
              "      <td>0.338873</td>\n",
              "      <td>0.060741</td>\n",
              "      <td>0.138377</td>\n",
              "      <td>-0.010286</td>\n",
              "      <td>-0.170136</td>\n",
              "      <td>0.576255</td>\n",
              "      <td>0.584179</td>\n",
              "      <td>3.364273</td>\n",
              "      <td>-9.207547</td>\n",
              "    </tr>\n",
              "    <tr>\n",
              "      <th>4</th>\n",
              "      <td>4</td>\n",
              "      <td>-0.869592</td>\n",
              "      <td>0.470784</td>\n",
              "      <td>0.062041</td>\n",
              "      <td>-0.135351</td>\n",
              "      <td>-0.003275</td>\n",
              "      <td>-0.011757</td>\n",
              "      <td>0.022096</td>\n",
              "      <td>0.320250</td>\n",
              "      <td>2.683565</td>\n",
              "      <td>-9.338934</td>\n",
              "    </tr>\n",
              "  </tbody>\n",
              "</table>\n",
              "</div>"
            ],
            "text/plain": [
              "   series_id  orientation_X  ...  linear_acceleration_Y  linear_acceleration_Z\n",
              "0          0       0.919651  ...               3.043463              -9.327918\n",
              "1          1       0.043135  ...               3.185698              -9.288633\n",
              "2          2      -0.914825  ...               2.959077              -9.395998\n",
              "3          3       0.928206  ...               3.364273              -9.207547\n",
              "4          4      -0.869592  ...               2.683565              -9.338934\n",
              "\n",
              "[5 rows x 11 columns]"
            ]
          },
          "metadata": {
            "tags": []
          },
          "execution_count": 37
        }
      ]
    },
    {
      "cell_type": "code",
      "metadata": {
        "id": "GFOzHJ5LOzXx",
        "colab_type": "code",
        "colab": {
          "base_uri": "https://localhost:8080/",
          "height": 439
        },
        "outputId": "0fcbd069-83aa-4cce-b56f-4541511c7070"
      },
      "source": [
        "# Merge X_train_group and y_train\n",
        "train_full = pd.merge(X_train_group, y_train, on='series_id', how='inner')\n",
        "train_full"
      ],
      "execution_count": 38,
      "outputs": [
        {
          "output_type": "execute_result",
          "data": {
            "text/html": [
              "<div>\n",
              "<style scoped>\n",
              "    .dataframe tbody tr th:only-of-type {\n",
              "        vertical-align: middle;\n",
              "    }\n",
              "\n",
              "    .dataframe tbody tr th {\n",
              "        vertical-align: top;\n",
              "    }\n",
              "\n",
              "    .dataframe thead th {\n",
              "        text-align: right;\n",
              "    }\n",
              "</style>\n",
              "<table border=\"1\" class=\"dataframe\">\n",
              "  <thead>\n",
              "    <tr style=\"text-align: right;\">\n",
              "      <th></th>\n",
              "      <th>series_id</th>\n",
              "      <th>orientation_X</th>\n",
              "      <th>orientation_Y</th>\n",
              "      <th>orientation_Z</th>\n",
              "      <th>orientation_W</th>\n",
              "      <th>angular_velocity_X</th>\n",
              "      <th>angular_velocity_Y</th>\n",
              "      <th>angular_velocity_Z</th>\n",
              "      <th>linear_acceleration_X</th>\n",
              "      <th>linear_acceleration_Y</th>\n",
              "      <th>linear_acceleration_Z</th>\n",
              "      <th>group_id</th>\n",
              "      <th>surface</th>\n",
              "    </tr>\n",
              "  </thead>\n",
              "  <tbody>\n",
              "    <tr>\n",
              "      <th>0</th>\n",
              "      <td>0</td>\n",
              "      <td>-0.758666</td>\n",
              "      <td>-0.634008</td>\n",
              "      <td>-0.105474</td>\n",
              "      <td>-0.106470</td>\n",
              "      <td>-0.002481</td>\n",
              "      <td>-0.003306</td>\n",
              "      <td>0.007532</td>\n",
              "      <td>0.263418</td>\n",
              "      <td>2.984195</td>\n",
              "      <td>-9.320391</td>\n",
              "      <td>13</td>\n",
              "      <td>fine_concrete</td>\n",
              "    </tr>\n",
              "    <tr>\n",
              "      <th>1</th>\n",
              "      <td>1</td>\n",
              "      <td>-0.958606</td>\n",
              "      <td>0.241867</td>\n",
              "      <td>0.031650</td>\n",
              "      <td>-0.146876</td>\n",
              "      <td>0.004605</td>\n",
              "      <td>-0.007757</td>\n",
              "      <td>0.006206</td>\n",
              "      <td>0.121867</td>\n",
              "      <td>2.768193</td>\n",
              "      <td>-9.388899</td>\n",
              "      <td>31</td>\n",
              "      <td>concrete</td>\n",
              "    </tr>\n",
              "    <tr>\n",
              "      <th>2</th>\n",
              "      <td>2</td>\n",
              "      <td>-0.512057</td>\n",
              "      <td>-0.846171</td>\n",
              "      <td>-0.129371</td>\n",
              "      <td>-0.071082</td>\n",
              "      <td>0.002646</td>\n",
              "      <td>-0.009232</td>\n",
              "      <td>0.027989</td>\n",
              "      <td>0.149711</td>\n",
              "      <td>2.886745</td>\n",
              "      <td>-9.395783</td>\n",
              "      <td>20</td>\n",
              "      <td>concrete</td>\n",
              "    </tr>\n",
              "    <tr>\n",
              "      <th>3</th>\n",
              "      <td>3</td>\n",
              "      <td>-0.939169</td>\n",
              "      <td>0.310140</td>\n",
              "      <td>0.038955</td>\n",
              "      <td>-0.142319</td>\n",
              "      <td>0.000624</td>\n",
              "      <td>-0.002804</td>\n",
              "      <td>0.007887</td>\n",
              "      <td>0.201791</td>\n",
              "      <td>2.657922</td>\n",
              "      <td>-9.451164</td>\n",
              "      <td>31</td>\n",
              "      <td>concrete</td>\n",
              "    </tr>\n",
              "    <tr>\n",
              "      <th>4</th>\n",
              "      <td>4</td>\n",
              "      <td>-0.891301</td>\n",
              "      <td>0.428144</td>\n",
              "      <td>0.060056</td>\n",
              "      <td>-0.136460</td>\n",
              "      <td>0.006969</td>\n",
              "      <td>0.046109</td>\n",
              "      <td>-0.142385</td>\n",
              "      <td>-0.086171</td>\n",
              "      <td>2.981498</td>\n",
              "      <td>-9.349988</td>\n",
              "      <td>22</td>\n",
              "      <td>soft_tiles</td>\n",
              "    </tr>\n",
              "    <tr>\n",
              "      <th>...</th>\n",
              "      <td>...</td>\n",
              "      <td>...</td>\n",
              "      <td>...</td>\n",
              "      <td>...</td>\n",
              "      <td>...</td>\n",
              "      <td>...</td>\n",
              "      <td>...</td>\n",
              "      <td>...</td>\n",
              "      <td>...</td>\n",
              "      <td>...</td>\n",
              "      <td>...</td>\n",
              "      <td>...</td>\n",
              "      <td>...</td>\n",
              "    </tr>\n",
              "    <tr>\n",
              "      <th>3805</th>\n",
              "      <td>3805</td>\n",
              "      <td>-0.228787</td>\n",
              "      <td>0.961730</td>\n",
              "      <td>0.144690</td>\n",
              "      <td>-0.042361</td>\n",
              "      <td>0.002519</td>\n",
              "      <td>0.008479</td>\n",
              "      <td>-0.021297</td>\n",
              "      <td>0.266687</td>\n",
              "      <td>2.745177</td>\n",
              "      <td>-9.465299</td>\n",
              "      <td>55</td>\n",
              "      <td>tiled</td>\n",
              "    </tr>\n",
              "    <tr>\n",
              "      <th>3806</th>\n",
              "      <td>3806</td>\n",
              "      <td>0.542262</td>\n",
              "      <td>0.826590</td>\n",
              "      <td>0.129890</td>\n",
              "      <td>0.076335</td>\n",
              "      <td>-0.000453</td>\n",
              "      <td>0.003409</td>\n",
              "      <td>-0.000416</td>\n",
              "      <td>0.136476</td>\n",
              "      <td>2.900305</td>\n",
              "      <td>-9.367247</td>\n",
              "      <td>67</td>\n",
              "      <td>wood</td>\n",
              "    </tr>\n",
              "    <tr>\n",
              "      <th>3807</th>\n",
              "      <td>3807</td>\n",
              "      <td>-0.416511</td>\n",
              "      <td>0.895374</td>\n",
              "      <td>0.140185</td>\n",
              "      <td>-0.070016</td>\n",
              "      <td>0.031838</td>\n",
              "      <td>0.103777</td>\n",
              "      <td>-0.338278</td>\n",
              "      <td>-0.061158</td>\n",
              "      <td>3.660786</td>\n",
              "      <td>-9.192466</td>\n",
              "      <td>48</td>\n",
              "      <td>fine_concrete</td>\n",
              "    </tr>\n",
              "    <tr>\n",
              "      <th>3808</th>\n",
              "      <td>3808</td>\n",
              "      <td>-0.264584</td>\n",
              "      <td>0.952734</td>\n",
              "      <td>0.142060</td>\n",
              "      <td>-0.045705</td>\n",
              "      <td>0.001128</td>\n",
              "      <td>-0.029315</td>\n",
              "      <td>0.088592</td>\n",
              "      <td>0.218964</td>\n",
              "      <td>3.075475</td>\n",
              "      <td>-9.345442</td>\n",
              "      <td>54</td>\n",
              "      <td>tiled</td>\n",
              "    </tr>\n",
              "    <tr>\n",
              "      <th>3809</th>\n",
              "      <td>3809</td>\n",
              "      <td>0.627878</td>\n",
              "      <td>-0.769601</td>\n",
              "      <td>-0.083867</td>\n",
              "      <td>0.080308</td>\n",
              "      <td>-0.003995</td>\n",
              "      <td>0.000495</td>\n",
              "      <td>0.002248</td>\n",
              "      <td>0.150692</td>\n",
              "      <td>2.222328</td>\n",
              "      <td>-9.560770</td>\n",
              "      <td>56</td>\n",
              "      <td>soft_pvc</td>\n",
              "    </tr>\n",
              "  </tbody>\n",
              "</table>\n",
              "<p>3810 rows × 13 columns</p>\n",
              "</div>"
            ],
            "text/plain": [
              "      series_id  orientation_X  ...  group_id        surface\n",
              "0             0      -0.758666  ...        13  fine_concrete\n",
              "1             1      -0.958606  ...        31       concrete\n",
              "2             2      -0.512057  ...        20       concrete\n",
              "3             3      -0.939169  ...        31       concrete\n",
              "4             4      -0.891301  ...        22     soft_tiles\n",
              "...         ...            ...  ...       ...            ...\n",
              "3805       3805      -0.228787  ...        55          tiled\n",
              "3806       3806       0.542262  ...        67           wood\n",
              "3807       3807      -0.416511  ...        48  fine_concrete\n",
              "3808       3808      -0.264584  ...        54          tiled\n",
              "3809       3809       0.627878  ...        56       soft_pvc\n",
              "\n",
              "[3810 rows x 13 columns]"
            ]
          },
          "metadata": {
            "tags": []
          },
          "execution_count": 38
        }
      ]
    },
    {
      "cell_type": "code",
      "metadata": {
        "id": "0XCCHlBYRqi8",
        "colab_type": "code",
        "colab": {
          "base_uri": "https://localhost:8080/",
          "height": 255
        },
        "outputId": "6ce1d604-a48d-475c-9ea4-336335c3d5e5"
      },
      "source": [
        "# Check number of missing values\n",
        "len(train_full) - train_full.count()"
      ],
      "execution_count": 39,
      "outputs": [
        {
          "output_type": "execute_result",
          "data": {
            "text/plain": [
              "series_id                0\n",
              "orientation_X            0\n",
              "orientation_Y            0\n",
              "orientation_Z            0\n",
              "orientation_W            0\n",
              "angular_velocity_X       0\n",
              "angular_velocity_Y       0\n",
              "angular_velocity_Z       0\n",
              "linear_acceleration_X    0\n",
              "linear_acceleration_Y    0\n",
              "linear_acceleration_Z    0\n",
              "group_id                 0\n",
              "surface                  0\n",
              "dtype: int64"
            ]
          },
          "metadata": {
            "tags": []
          },
          "execution_count": 39
        }
      ]
    },
    {
      "cell_type": "code",
      "metadata": {
        "id": "T5WnGBA4S73Q",
        "colab_type": "code",
        "colab": {}
      },
      "source": [
        "#Save the 'Id' column\n",
        "train_series_id = train_full['series_id']\n",
        "test_series_id = X_test_group['series_id']\n",
        "#Now drop the  'Id' colum since it's unnecessary for the prediction process.\n",
        "train_full.drop([\"series_id\", \"group_id\"], axis = 1, inplace = True)\n",
        "X_test_group.drop(\"series_id\", axis = 1, inplace = True)"
      ],
      "execution_count": 0,
      "outputs": []
    },
    {
      "cell_type": "markdown",
      "metadata": {
        "id": "7P353b9RS3TC",
        "colab_type": "text"
      },
      "source": [
        "### Encoding"
      ]
    },
    {
      "cell_type": "code",
      "metadata": {
        "id": "91_ahpAMSeSr",
        "colab_type": "code",
        "colab": {
          "base_uri": "https://localhost:8080/",
          "height": 439
        },
        "outputId": "ae347913-9a0a-430d-b4ae-d26ed0b372ae"
      },
      "source": [
        "from sklearn.preprocessing import LabelEncoder\n",
        "\n",
        "label = LabelEncoder()\n",
        "train_full[\"surface\"] = label.fit_transform(train_full[\"surface\"])\n",
        "train_full"
      ],
      "execution_count": 44,
      "outputs": [
        {
          "output_type": "execute_result",
          "data": {
            "text/html": [
              "<div>\n",
              "<style scoped>\n",
              "    .dataframe tbody tr th:only-of-type {\n",
              "        vertical-align: middle;\n",
              "    }\n",
              "\n",
              "    .dataframe tbody tr th {\n",
              "        vertical-align: top;\n",
              "    }\n",
              "\n",
              "    .dataframe thead th {\n",
              "        text-align: right;\n",
              "    }\n",
              "</style>\n",
              "<table border=\"1\" class=\"dataframe\">\n",
              "  <thead>\n",
              "    <tr style=\"text-align: right;\">\n",
              "      <th></th>\n",
              "      <th>orientation_X</th>\n",
              "      <th>orientation_Y</th>\n",
              "      <th>orientation_Z</th>\n",
              "      <th>orientation_W</th>\n",
              "      <th>angular_velocity_X</th>\n",
              "      <th>angular_velocity_Y</th>\n",
              "      <th>angular_velocity_Z</th>\n",
              "      <th>linear_acceleration_X</th>\n",
              "      <th>linear_acceleration_Y</th>\n",
              "      <th>linear_acceleration_Z</th>\n",
              "      <th>surface</th>\n",
              "    </tr>\n",
              "  </thead>\n",
              "  <tbody>\n",
              "    <tr>\n",
              "      <th>0</th>\n",
              "      <td>-0.758666</td>\n",
              "      <td>-0.634008</td>\n",
              "      <td>-0.105474</td>\n",
              "      <td>-0.106470</td>\n",
              "      <td>-0.002481</td>\n",
              "      <td>-0.003306</td>\n",
              "      <td>0.007532</td>\n",
              "      <td>0.263418</td>\n",
              "      <td>2.984195</td>\n",
              "      <td>-9.320391</td>\n",
              "      <td>2</td>\n",
              "    </tr>\n",
              "    <tr>\n",
              "      <th>1</th>\n",
              "      <td>-0.958606</td>\n",
              "      <td>0.241867</td>\n",
              "      <td>0.031650</td>\n",
              "      <td>-0.146876</td>\n",
              "      <td>0.004605</td>\n",
              "      <td>-0.007757</td>\n",
              "      <td>0.006206</td>\n",
              "      <td>0.121867</td>\n",
              "      <td>2.768193</td>\n",
              "      <td>-9.388899</td>\n",
              "      <td>1</td>\n",
              "    </tr>\n",
              "    <tr>\n",
              "      <th>2</th>\n",
              "      <td>-0.512057</td>\n",
              "      <td>-0.846171</td>\n",
              "      <td>-0.129371</td>\n",
              "      <td>-0.071082</td>\n",
              "      <td>0.002646</td>\n",
              "      <td>-0.009232</td>\n",
              "      <td>0.027989</td>\n",
              "      <td>0.149711</td>\n",
              "      <td>2.886745</td>\n",
              "      <td>-9.395783</td>\n",
              "      <td>1</td>\n",
              "    </tr>\n",
              "    <tr>\n",
              "      <th>3</th>\n",
              "      <td>-0.939169</td>\n",
              "      <td>0.310140</td>\n",
              "      <td>0.038955</td>\n",
              "      <td>-0.142319</td>\n",
              "      <td>0.000624</td>\n",
              "      <td>-0.002804</td>\n",
              "      <td>0.007887</td>\n",
              "      <td>0.201791</td>\n",
              "      <td>2.657922</td>\n",
              "      <td>-9.451164</td>\n",
              "      <td>1</td>\n",
              "    </tr>\n",
              "    <tr>\n",
              "      <th>4</th>\n",
              "      <td>-0.891301</td>\n",
              "      <td>0.428144</td>\n",
              "      <td>0.060056</td>\n",
              "      <td>-0.136460</td>\n",
              "      <td>0.006969</td>\n",
              "      <td>0.046109</td>\n",
              "      <td>-0.142385</td>\n",
              "      <td>-0.086171</td>\n",
              "      <td>2.981498</td>\n",
              "      <td>-9.349988</td>\n",
              "      <td>6</td>\n",
              "    </tr>\n",
              "    <tr>\n",
              "      <th>...</th>\n",
              "      <td>...</td>\n",
              "      <td>...</td>\n",
              "      <td>...</td>\n",
              "      <td>...</td>\n",
              "      <td>...</td>\n",
              "      <td>...</td>\n",
              "      <td>...</td>\n",
              "      <td>...</td>\n",
              "      <td>...</td>\n",
              "      <td>...</td>\n",
              "      <td>...</td>\n",
              "    </tr>\n",
              "    <tr>\n",
              "      <th>3805</th>\n",
              "      <td>-0.228787</td>\n",
              "      <td>0.961730</td>\n",
              "      <td>0.144690</td>\n",
              "      <td>-0.042361</td>\n",
              "      <td>0.002519</td>\n",
              "      <td>0.008479</td>\n",
              "      <td>-0.021297</td>\n",
              "      <td>0.266687</td>\n",
              "      <td>2.745177</td>\n",
              "      <td>-9.465299</td>\n",
              "      <td>7</td>\n",
              "    </tr>\n",
              "    <tr>\n",
              "      <th>3806</th>\n",
              "      <td>0.542262</td>\n",
              "      <td>0.826590</td>\n",
              "      <td>0.129890</td>\n",
              "      <td>0.076335</td>\n",
              "      <td>-0.000453</td>\n",
              "      <td>0.003409</td>\n",
              "      <td>-0.000416</td>\n",
              "      <td>0.136476</td>\n",
              "      <td>2.900305</td>\n",
              "      <td>-9.367247</td>\n",
              "      <td>8</td>\n",
              "    </tr>\n",
              "    <tr>\n",
              "      <th>3807</th>\n",
              "      <td>-0.416511</td>\n",
              "      <td>0.895374</td>\n",
              "      <td>0.140185</td>\n",
              "      <td>-0.070016</td>\n",
              "      <td>0.031838</td>\n",
              "      <td>0.103777</td>\n",
              "      <td>-0.338278</td>\n",
              "      <td>-0.061158</td>\n",
              "      <td>3.660786</td>\n",
              "      <td>-9.192466</td>\n",
              "      <td>2</td>\n",
              "    </tr>\n",
              "    <tr>\n",
              "      <th>3808</th>\n",
              "      <td>-0.264584</td>\n",
              "      <td>0.952734</td>\n",
              "      <td>0.142060</td>\n",
              "      <td>-0.045705</td>\n",
              "      <td>0.001128</td>\n",
              "      <td>-0.029315</td>\n",
              "      <td>0.088592</td>\n",
              "      <td>0.218964</td>\n",
              "      <td>3.075475</td>\n",
              "      <td>-9.345442</td>\n",
              "      <td>7</td>\n",
              "    </tr>\n",
              "    <tr>\n",
              "      <th>3809</th>\n",
              "      <td>0.627878</td>\n",
              "      <td>-0.769601</td>\n",
              "      <td>-0.083867</td>\n",
              "      <td>0.080308</td>\n",
              "      <td>-0.003995</td>\n",
              "      <td>0.000495</td>\n",
              "      <td>0.002248</td>\n",
              "      <td>0.150692</td>\n",
              "      <td>2.222328</td>\n",
              "      <td>-9.560770</td>\n",
              "      <td>5</td>\n",
              "    </tr>\n",
              "  </tbody>\n",
              "</table>\n",
              "<p>3810 rows × 11 columns</p>\n",
              "</div>"
            ],
            "text/plain": [
              "      orientation_X  orientation_Y  ...  linear_acceleration_Z  surface\n",
              "0         -0.758666      -0.634008  ...              -9.320391        2\n",
              "1         -0.958606       0.241867  ...              -9.388899        1\n",
              "2         -0.512057      -0.846171  ...              -9.395783        1\n",
              "3         -0.939169       0.310140  ...              -9.451164        1\n",
              "4         -0.891301       0.428144  ...              -9.349988        6\n",
              "...             ...            ...  ...                    ...      ...\n",
              "3805      -0.228787       0.961730  ...              -9.465299        7\n",
              "3806       0.542262       0.826590  ...              -9.367247        8\n",
              "3807      -0.416511       0.895374  ...              -9.192466        2\n",
              "3808      -0.264584       0.952734  ...              -9.345442        7\n",
              "3809       0.627878      -0.769601  ...              -9.560770        5\n",
              "\n",
              "[3810 rows x 11 columns]"
            ]
          },
          "metadata": {
            "tags": []
          },
          "execution_count": 44
        }
      ]
    },
    {
      "cell_type": "markdown",
      "metadata": {
        "id": "9xSq-A7eitBv",
        "colab_type": "text"
      },
      "source": [
        "### Modeling"
      ]
    },
    {
      "cell_type": "code",
      "metadata": {
        "id": "NEpvnU_ki72q",
        "colab_type": "code",
        "colab": {}
      },
      "source": [
        "# Summarize the X and y variables.\n",
        "X = train_full.drop(\"surface\", axis=1)\n",
        "y = train_full.surface"
      ],
      "execution_count": 0,
      "outputs": []
    },
    {
      "cell_type": "code",
      "metadata": {
        "id": "EAVDi2Coih-7",
        "colab_type": "code",
        "colab": {}
      },
      "source": [
        "# split the dataset into training and validation datasets\n",
        "from sklearn import model_selection\n",
        "X_train, X_valid, y_train, y_valid = model_selection.train_test_split(X, y, test_size=0.25, random_state=0,\n",
        "                                                   stratify=y)"
      ],
      "execution_count": 0,
      "outputs": []
    },
    {
      "cell_type": "code",
      "metadata": {
        "id": "LsezBt9yj5qW",
        "colab_type": "code",
        "colab": {}
      },
      "source": [
        "# Model building. Following function is used to train a model and to compute the accuracy score\n",
        "def train_model(classifier, train_vector, train_labels, valid_vector, valid_labels, is_neural_net=False):\n",
        "    # fit the training dataset on the classifier\n",
        "    classifier.fit(train_vector, train_labels)\n",
        "    \n",
        "    # predict the labels on validation dataset\n",
        "    predictions = classifier.predict(valid_vector)\n",
        "    \n",
        "    if is_neural_net:\n",
        "        predictions = predictions.argmax(axis=-1)\n",
        "    \n",
        "    return metrics.accuracy_score(predictions, valid_labels)"
      ],
      "execution_count": 0,
      "outputs": []
    },
    {
      "cell_type": "code",
      "metadata": {
        "id": "EmPl0dTykEyh",
        "colab_type": "code",
        "colab": {}
      },
      "source": [
        "# Creating the models\n",
        "models = [LogisticRegression(random_state= 1), SVC(random_state= 1), SGDClassifier(random_state= 1), GradientBoostingClassifier(random_state= 1), RandomForestClassifier(random_state= 1),\n",
        "            XGBClassifier(random_state= 1), DecisionTreeClassifier(random_state= 1), BaggingClassifier(DecisionTreeClassifier(random_state=1)), LGBMClassifier(random_state= 1), AdaBoostClassifier(random_state= 1),\n",
        "          KNeighborsClassifier()                                      \n",
        "             ]\n",
        "names = ['Logistic Regression','Support Vector Classifier','Stochastic Gradient Descent','Gradient Boosting Tree','Random Forest',\n",
        "         'XGBoost', 'Decision Tree', 'Bagging Decision Tree', 'Light GBM', 'Adaboost', \"KNN\"\n",
        "         ]"
      ],
      "execution_count": 0,
      "outputs": []
    },
    {
      "cell_type": "code",
      "metadata": {
        "id": "WkqKJAeZnLzw",
        "colab_type": "code",
        "colab": {
          "base_uri": "https://localhost:8080/",
          "height": 340
        },
        "outputId": "c231d8b8-3471-42d3-9b01-ab3391cdd0a7"
      },
      "source": [
        "for model, name in zip(models,names):\n",
        "  score = train_model(model, X_train, y_train, X_valid, y_valid)\n",
        "  print(f\"- {name}: Accuracy: {round(score,3)}\")\n"
      ],
      "execution_count": 60,
      "outputs": [
        {
          "output_type": "stream",
          "text": [
            "/usr/local/lib/python3.6/dist-packages/sklearn/linear_model/_logistic.py:940: ConvergenceWarning: lbfgs failed to converge (status=1):\n",
            "STOP: TOTAL NO. of ITERATIONS REACHED LIMIT.\n",
            "\n",
            "Increase the number of iterations (max_iter) or scale the data as shown in:\n",
            "    https://scikit-learn.org/stable/modules/preprocessing.html\n",
            "Please also refer to the documentation for alternative solver options:\n",
            "    https://scikit-learn.org/stable/modules/linear_model.html#logistic-regression\n",
            "  extra_warning_msg=_LOGISTIC_SOLVER_CONVERGENCE_MSG)\n"
          ],
          "name": "stderr"
        },
        {
          "output_type": "stream",
          "text": [
            "- Logistic Regression: Accuracy: 0.318\n",
            "- Support Vector Classifier: Accuracy: 0.272\n",
            "- Stochastic Gradient Descent: Accuracy: 0.281\n",
            "- Gradient Boosting Tree: Accuracy: 0.726\n",
            "- Random Forest: Accuracy: 0.771\n",
            "- XGBoost: Accuracy: 0.697\n",
            "- Decision Tree: Accuracy: 0.651\n",
            "- Bagging Decision Tree: Accuracy: 0.748\n",
            "- Light GBM: Accuracy: 0.761\n",
            "- Adaboost: Accuracy: 0.176\n",
            "- KNN: Accuracy: 0.638\n"
          ],
          "name": "stdout"
        }
      ]
    },
    {
      "cell_type": "code",
      "metadata": {
        "id": "GZxcIxLanlse",
        "colab_type": "code",
        "colab": {
          "base_uri": "https://localhost:8080/",
          "height": 34
        },
        "outputId": "38e9c400-2e2a-4c43-84e3-7b696086620b"
      },
      "source": [
        "# LR\n",
        "accuracy_LGBM = train_model(LGBMClassifier(num_leaves= 5, max_bin = 50, learning_rate = 0.1, random_state=1), X_train, y_train, X_valid, y_valid)\n",
        "print (\"LGBM: \", accuracy_LGBM)"
      ],
      "execution_count": 86,
      "outputs": [
        {
          "output_type": "stream",
          "text": [
            "LGBM:  0.6778593913955928\n"
          ],
          "name": "stdout"
        }
      ]
    },
    {
      "cell_type": "code",
      "metadata": {
        "id": "FtWGrIBurbDo",
        "colab_type": "code",
        "colab": {
          "base_uri": "https://localhost:8080/",
          "height": 51
        },
        "outputId": "57c22fff-9305-436b-f7dc-2b5220d49512"
      },
      "source": [
        "# Gridsearch for LGBM\n",
        "from sklearn import model_selection\n",
        "import math\n",
        "param_grid = {'learning_rate': [0.1,0.5,0.3],\n",
        "              'max_bin': [500, 1000, 10000]\n",
        "              } \n",
        " \n",
        "clf = model_selection.GridSearchCV(LGBMClassifier(num_leaves= 1000), param_grid = param_grid, scoring = \"accuracy\", cv = 5)\n",
        "clf.fit(X_train, y_train)\n",
        "print(\"The best parameters are: \",clf.best_params_)\n",
        "print(\"The best score achieved is: \",clf.best_score_)"
      ],
      "execution_count": 71,
      "outputs": [
        {
          "output_type": "stream",
          "text": [
            "The best parameters are:  {'learning_rate': 0.3, 'max_bin': 1000}\n",
            "The best score achieved is:  0.7486908013177715\n"
          ],
          "name": "stdout"
        }
      ]
    },
    {
      "cell_type": "code",
      "metadata": {
        "id": "USfuH_-3sSMN",
        "colab_type": "code",
        "colab": {}
      },
      "source": [
        "# Predictions on test set\n",
        "model_lgb = LGBMClassifier(num_leaves= 5, max_bin = 50, learning_rate = 0.1, random_state=1)\n",
        "model_lgb.fit(X_train, y_train)\n",
        "y_lgb_enc = model_lgb.predict(X_test_group)\n",
        "y_lgb = label.inverse_transform(y_lgb_enc)"
      ],
      "execution_count": 0,
      "outputs": []
    },
    {
      "cell_type": "code",
      "metadata": {
        "id": "DZAbI4ZzsORf",
        "colab_type": "code",
        "colab": {
          "base_uri": "https://localhost:8080/",
          "height": 34
        },
        "outputId": "a53b6380-b010-4df5-b725-73ac4c6f8907"
      },
      "source": [
        "# Save predictions in format used for competition scoring\n",
        "output = pd.DataFrame({'series_id': test_series_id,\n",
        "                       'surface': y_lgb})\n",
        "output.to_csv('submission.csv', index=False)\n",
        "print(\"Your submission was successfully saved!\")"
      ],
      "execution_count": 90,
      "outputs": [
        {
          "output_type": "stream",
          "text": [
            "Your submission was successfully saved!\n"
          ],
          "name": "stdout"
        }
      ]
    },
    {
      "cell_type": "code",
      "metadata": {
        "id": "oULxyEv4ugLX",
        "colab_type": "code",
        "colab": {}
      },
      "source": [
        ""
      ],
      "execution_count": 0,
      "outputs": []
    }
  ]
}